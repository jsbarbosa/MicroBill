{
 "cells": [
  {
   "cell_type": "code",
   "execution_count": 1,
   "metadata": {
    "collapsed": true
   },
   "outputs": [],
   "source": [
    "import pandas as pd"
   ]
  },
  {
   "cell_type": "code",
   "execution_count": 2,
   "metadata": {
    "collapsed": true
   },
   "outputs": [],
   "source": [
    "REGISTRO_KEYS = ['Cotización', 'Fecha', 'Nombre', 'Correo', 'Teléfono', 'Institución', 'Interno',\n",
    "                  'Responsable', 'Muestra', 'Equipo', 'Estado', 'Pago', 'Referencia', 'Tipo de Pago', 'Valor']\n",
    "CLIENTES_KEYS = ['Nombre', 'Correo', 'Teléfono', 'Institución', 'Documento',\n",
    "                'Dirección', 'Ciudad', 'Interno', 'Responsable', 'Proyecto', 'Código', 'Tipo de Pago']"
   ]
  },
  {
   "cell_type": "code",
   "execution_count": 3,
   "metadata": {
    "collapsed": true
   },
   "outputs": [],
   "source": [
    "afm = pd.read_excel(\"AFM.xlsx\").fillna(\"\").astype(str)\n",
    "con = pd.read_excel(\"Confocal.xlsx\").fillna(\"\").astype(str)\n",
    "sem = pd.read_excel(\"SEM.xlsx\").fillna(\"\").astype(str)\n",
    "\n",
    "clientes = pd.read_excel(\"Clientes.xlsx\").fillna(\"\").astype(str)"
   ]
  },
  {
   "cell_type": "code",
   "execution_count": 4,
   "metadata": {
    "collapsed": false
   },
   "outputs": [],
   "source": [
    "def resume_category(df, key):\n",
    "    temp = df.groupby(key)\n",
    "    text = \"\\n\".join([\"%s: %d\"%(a, len(b)) for (a, b) in temp])\n",
    "    return text"
   ]
  },
  {
   "cell_type": "markdown",
   "metadata": {},
   "source": [
    "# Title fields"
   ]
  },
  {
   "cell_type": "code",
   "execution_count": 5,
   "metadata": {
    "collapsed": false
   },
   "outputs": [],
   "source": [
    "for key in CLIENTES_KEYS:\n",
    "    if not key in list(clientes.keys()):\n",
    "        clientes[key] = pd.Series([\"\"]*len(clientes), index = clientes.index)\n",
    "    series = clientes[key]\n",
    "    if key != \"Correo\": series = series.str.title()\n",
    "    else: series = series.str.lower()\n",
    "    series = series.str.replace(\"\\n\", \"\").str.replace(\"\\r\", \"\").str.strip()\n",
    "    clientes[key] = series"
   ]
  },
  {
   "cell_type": "markdown",
   "metadata": {},
   "source": [
    "# Drop Duplicates"
   ]
  },
  {
   "cell_type": "code",
   "execution_count": 6,
   "metadata": {
    "collapsed": false
   },
   "outputs": [],
   "source": [
    "clientes = clientes.drop_duplicates(\"Correo\", 'first')\n",
    "clientes = clientes.sort_values(\"Nombre\")"
   ]
  },
  {
   "cell_type": "markdown",
   "metadata": {},
   "source": [
    "# Valid user"
   ]
  },
  {
   "cell_type": "code",
   "execution_count": 7,
   "metadata": {
    "collapsed": true
   },
   "outputs": [],
   "source": [
    "valid = (clientes[\"Interno\"] == \"Interno\") | (clientes[\"Interno\"] == \"Externo\")\n",
    "clientes = clientes[valid]"
   ]
  },
  {
   "cell_type": "markdown",
   "metadata": {},
   "source": [
    "# Cities"
   ]
  },
  {
   "cell_type": "code",
   "execution_count": 8,
   "metadata": {
    "collapsed": true
   },
   "outputs": [],
   "source": [
    "def replace(df, key, prev, new):\n",
    "    df[key][df[key] == prev] = new"
   ]
  },
  {
   "cell_type": "code",
   "execution_count": 9,
   "metadata": {
    "collapsed": true
   },
   "outputs": [],
   "source": [
    "replace(clientes, \"Ciudad\", \"Bogota D.C\", \"Bogotá D.C.\")\n",
    "replace(clientes, \"Ciudad\", \"Botoga\", \"Bogotá D.C.\")\n",
    "replace(clientes, \"Ciudad\", \"Bogota\", \"Bogotá D.C.\")\n",
    "replace(clientes, \"Ciudad\", \"Bogotá\", \"Bogotá D.C.\")\n",
    "replace(clientes, \"Ciudad\", \"Bogotá D.C\", \"Bogotá D.C.\")\n",
    "\n",
    "replace(clientes, \"Ciudad\", \"Bogotá D.C.\", \"Bogotá\")\n",
    "\n",
    "replace(clientes, \"Ciudad\", \"Cartagena-Bolívar\", \"Cartagena\")\n",
    "replace(clientes, \"Ciudad\", \"Medellin\", \"Medellín\")\n",
    "replace(clientes, \"Ciudad\", \"Santa Marta - Colombia\", \"Santa Marta\")"
   ]
  },
  {
   "cell_type": "code",
   "execution_count": 10,
   "metadata": {
    "collapsed": false
   },
   "outputs": [
    {
     "name": "stdout",
     "output_type": "stream",
     "text": [
      ": 6\n",
      "Ambalá: 1\n",
      "Armenia: 1\n",
      "Barranquilla: 3\n",
      "Bogotá: 403\n",
      "Bucaramanga: 1\n",
      "Cajicá: 1\n",
      "Cali: 2\n",
      "Cartagena: 2\n",
      "Cundinamarca: 1\n",
      "Envigado: 1\n",
      "Facatativá: 1\n",
      "Medellín: 2\n",
      "Neiva: 2\n",
      "Santa Marta: 1\n",
      "Tunja: 7\n",
      "Valle Del Cauca: 1\n",
      "Valledupar: 2\n"
     ]
    }
   ],
   "source": [
    "values = resume_category(clientes, \"Ciudad\")\n",
    "print(values)"
   ]
  },
  {
   "cell_type": "code",
   "execution_count": 11,
   "metadata": {
    "collapsed": false
   },
   "outputs": [],
   "source": [
    "clientes = clientes.reset_index(drop = True)\n",
    "clientes = clientes[CLIENTES_KEYS]\n",
    "clientes.to_excel(\"Clientes.xlsx\", index = False)"
   ]
  },
  {
   "cell_type": "code",
   "execution_count": 12,
   "metadata": {
    "collapsed": false
   },
   "outputs": [
    {
     "name": "stdout",
     "output_type": "stream",
     "text": [
      ": 10\n",
      "-: 1\n",
      "Agp Glass: 1\n",
      "Alkhorayef Zona Franca: 1\n",
      "Andimallas & Andimetales S.A.: 1\n",
      "Antropología: 1\n",
      "Arte Y Humanidades: 1\n",
      "Bd Medical: 1\n",
      "Belcorp: 1\n",
      "Biología: 1\n",
      "Biomed, Uniandes: 1\n",
      "Biommar: 4\n",
      "C. Biomedicas: 1\n",
      "Cga: 1\n",
      "Ciencias Biologícas: 1\n",
      "Ciencias Biológicas: 14\n",
      "Cieo: 2\n",
      "Cigen Uniandes: 1\n",
      "Cimic: 4\n",
      "Cirujano Y Oftanmologo: 1\n",
      "Coc: 1\n",
      "Colegio Odontológico: 2\n",
      "Corhuila: 1\n",
      "Corpogen: 1\n",
      "Corpoica, C.I. Tibaitatá: 1\n",
      "Corporación Universitaria Minuto De Dios: 1\n",
      "Cromasoft Ltda: 1\n",
      "Departamento De Física: 1\n",
      "Departamento De Química: 1\n",
      "Depto Química. Uniandes: 1\n",
      "Diseño: 3\n",
      "Ecci: 1\n",
      "Externo: 10\n",
      "Facultad De Ingeniería: 1\n",
      "Facultad De Odontología De La Universidad Ces: 1\n",
      "Ferrotérmicos: 1\n",
      "Fisica: 2\n",
      "Fundación Cardioinfantil - Instituto De Cardiología: 1\n",
      "Fundación Universitaria Del Área Andina: 1\n",
      "Física: 11\n",
      "General Motors Colmotores S.A: 1\n",
      "Genética Humana.: 1\n",
      "Geociencias: 10\n",
      "Geocol: 1\n",
      "Geoimec S.A.S: 1\n",
      "Gmas S.A.S.: 2\n",
      "Gmas Sas: 1\n",
      "Haerentia Sas: 1\n",
      "Hospital De San Jose: 1\n",
      "Imec: 5\n",
      "Ing Biomedica: 1\n",
      "Ing Biomédica: 2\n",
      "Ing Electronica: 1\n",
      "Ing Mecanica: 7\n",
      "Ing. Biomédica: 4\n",
      "Ing. Electrica Y Electrónica: 1\n",
      "Ing. Mecanica: 1\n",
      "Ing. Mecánica: 11\n",
      "Ing. Quimica: 3\n",
      "Ing. Quiímica: 1\n",
      "Ing. Química: 3\n",
      "Ing.Mecanica: 2\n",
      "Ingeniaria Ambiental: 1\n",
      "Ingenieria Biomedica: 1\n",
      "Ingenieria Electrica Y Electronica: 1\n",
      "Ingenieria Electroca Y Electronica: 1\n",
      "Ingenieria Electronica: 1\n",
      "Ingenieria Mecanica: 8\n",
      "Ingenieria Mecánica: 12\n",
      "Ingenieria Quimica: 3\n",
      "Ingeniería: 1\n",
      "Ingeniería Ambiental: 1\n",
      "Ingeniería Biomédica: 7\n",
      "Ingeniería Biomédica-Ingeniería Eléctrica Y Electrónica: 1\n",
      "Ingeniería Civil Y Ambiental: 4\n",
      "Ingeniería De Imagen: 1\n",
      "Ingeniería Electrónica: 1\n",
      "Ingeniería Eléctrica: 1\n",
      "Ingeniería Eléctrica Y Electrónica: 4\n",
      "Ingeniería Mecánica: 9\n",
      "Ingeniería Química: 13\n",
      "Ingeninieria Quimica: 1\n",
      "Innovación Tecnológica -  Vp Constructores  -  Colombia: 1\n",
      "Intek Group: 1\n",
      "Javeriana: 2\n",
      "Lab Neurociencias: 1\n",
      "Laboratorio De Biología Del Desarrollo - Bioldes: 1\n",
      "Laboratorio De Biología Molecular Marina -Biommar-: 1\n",
      "Laboratorios M&G S.A.S: 1\n",
      "Lamfu: 1\n",
      "Maestria En Ing Biomedica: 1\n",
      "Mecanica: 2\n",
      "Microbiología: 2\n",
      "Museo Del Oro: 1\n",
      "Nrbmicromatco S.A.S: 1\n",
      "Perrenque  Media Lab: 1\n",
      "Pontificia Universidad Javeriana: 2\n",
      "Proenfar Sas: 1\n",
      "Proquinal: 3\n",
      "Puj: 4\n",
      "Química: 13\n",
      "R&R Logística Ltda.: 1\n",
      "Residente De Rehabilitación Oral  Unicieo: 1\n",
      "Sanitas S.A.S: 1\n",
      "Sanitas. Sa: 1\n",
      "Schlumberger: 1\n",
      "U Javeriana: 1\n",
      "U. Del Valle: 1\n",
      "U. Distrital: 1\n",
      "U. El Bosque: 2\n",
      "U. Federal De Minas: 1\n",
      "U. La Salle: 1\n",
      "U.D Fransisco Josa De Caldas: 1\n",
      "U.Tadeo Ingeniería Química, Alimentos Y Ambiental: 1\n",
      "Uan-Bogotá: 1\n",
      "Ucmc: 1\n",
      "Unal: 1\n",
      "Uniagraria: 1\n",
      "Uniandes: 50\n",
      "Uniandes Doc. Química: 1\n",
      "Uniandes Facultad De Ciencias: 1\n",
      "Uniandes Ing. Química Y Biomédica: 1\n",
      "Uniandes Ing.Biomedica: 1\n",
      "Uniandes Química: 1\n",
      "Uniandes- Ing Civil: 1\n",
      "Unicoc: 3\n",
      "Uninorte: 3\n",
      "Unitec: 1\n",
      "Univ. Atlantico: 1\n",
      "Universidad Agraria De Colombia: 1\n",
      "Universidad America: 1\n",
      "Universidad Antonio Nariño: 3\n",
      "Universidad De América: 2\n",
      "Universidad De Cartagena: 2\n",
      "Universidad De Ibague: 1\n",
      "Universidad De La Sabana: 1\n",
      "Universidad De Los Andes: 7\n",
      "Universidad De Santander: 1\n",
      "Universidad Del Bosque: 2\n",
      "Universidad Del Magdalena: 1\n",
      "Universidad Del Norte: 1\n",
      "Universidad Del Quindio: 1\n",
      "Universidad Del Valle: 2\n",
      "Universidad Distrital: 10\n",
      "Universidad Distrital - Ing Mecánica: 1\n",
      "Universidad Distrital Francisco Jose De Caldas: 1\n",
      "Universidad Distrital Francisco Jose De Caldas.: 1\n",
      "Universidad Distrital Francisco José De Caldas: 3\n",
      "Universidad El Bosque: 2\n",
      "Universidad Industrial De Santander: 1\n",
      "Universidad Javeriana: 8\n",
      "Universidad Jorge Tadeo Lozano: 6\n",
      "Universidad La Gran Colombia: 1\n",
      "Universidad Libre: 5\n",
      "Universidad Nacional De Colombia: 10\n",
      "Universidad Pedagógica Y Tecnológica De Colombia: 1\n",
      "Universidad Santo Tomas - Neiva: 1\n",
      "Universidad Santo Tomás: 1\n",
      "Universidad Santo Tomás Seccional Tunja: 1\n",
      "Universidad Tecnológica Y Pedagógica De Colombia: 2\n",
      "Univrsidad Javeriana: 1\n",
      "Uppsala University: 1\n",
      "Uptc: 3\n",
      "Utadeo: 4\n",
      "Vicerrectoría: 1\n"
     ]
    }
   ],
   "source": [
    "resume = resume_category(clientes, \"Institución\")\n",
    "print(resume)"
   ]
  },
  {
   "cell_type": "markdown",
   "metadata": {},
   "source": [
    "# Merge equipos"
   ]
  },
  {
   "cell_type": "code",
   "execution_count": 13,
   "metadata": {
    "collapsed": false
   },
   "outputs": [],
   "source": [
    "afm[\"Cotización\"] = [\"A18-%04d\"%int(item) for item in afm[\"Cotización\"].values]\n",
    "con[\"Cotización\"] = [\"C18-%04d\"%int(item) for item in con[\"Cotización\"].values]\n",
    "sem[\"Cotización\"] = [\"M18-%04d\"%int(item) for item in sem[\"Cotización\"].values]"
   ]
  },
  {
   "cell_type": "code",
   "execution_count": 14,
   "metadata": {
    "collapsed": true
   },
   "outputs": [],
   "source": [
    "afm[\"Equipo\"] = \"AFM\"\n",
    "con[\"Equipo\"] = \"Confocal\"\n",
    "sem[\"Equipo\"] = \"MBE\""
   ]
  },
  {
   "cell_type": "code",
   "execution_count": 15,
   "metadata": {
    "collapsed": false
   },
   "outputs": [],
   "source": [
    "merged = afm.append(con).append(sem)"
   ]
  },
  {
   "cell_type": "code",
   "execution_count": 16,
   "metadata": {
    "collapsed": false
   },
   "outputs": [],
   "source": [
    "merged = merged.drop_duplicates(\"Cotización\", \"first\")"
   ]
  },
  {
   "cell_type": "code",
   "execution_count": 17,
   "metadata": {
    "collapsed": false
   },
   "outputs": [],
   "source": [
    "for key in REGISTRO_KEYS:\n",
    "    if not key in list(merged.keys()):\n",
    "        merged[key] = pd.Series([\"\"]*len(merged), index = merged.index)\n",
    "    series = merged[key]\n",
    "    if key == \"Equipo\": pass\n",
    "    elif key != \"Correo\": series = series.str.title()\n",
    "    else: series = series.str.lower()\n",
    "    series = series.str.replace(\"\\n\", \"\").str.replace(\"\\r\", \"\").str.strip()\n",
    "    merged[key] = series"
   ]
  },
  {
   "cell_type": "code",
   "execution_count": 18,
   "metadata": {
    "collapsed": false
   },
   "outputs": [],
   "source": [
    "merged = merged.sort_values(\"Cotización\", ascending = False)\n",
    "merged = merged[REGISTRO_KEYS]\n",
    "\n",
    "merged.to_excel(\"Registro.xlsx\", index = False)\n"
   ]
  },
  {
   "cell_type": "code",
   "execution_count": null,
   "metadata": {
    "collapsed": true
   },
   "outputs": [],
   "source": []
  }
 ],
 "metadata": {
  "kernelspec": {
   "display_name": "Python 3",
   "language": "python",
   "name": "python3"
  },
  "language_info": {
   "codemirror_mode": {
    "name": "ipython",
    "version": 3
   },
   "file_extension": ".py",
   "mimetype": "text/x-python",
   "name": "python",
   "nbconvert_exporter": "python",
   "pygments_lexer": "ipython3",
   "version": "3.6.4"
  }
 },
 "nbformat": 4,
 "nbformat_minor": 2
}
