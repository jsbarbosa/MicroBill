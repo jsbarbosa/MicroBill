{
 "cells": [
  {
   "cell_type": "code",
   "execution_count": 1,
   "metadata": {},
   "outputs": [],
   "source": [
    "import pandas as pd"
   ]
  },
  {
   "cell_type": "code",
   "execution_count": 3,
   "metadata": {},
   "outputs": [],
   "source": [
    "df = pd.read_excel('Registro.xlsx')"
   ]
  },
  {
   "cell_type": "code",
   "execution_count": 14,
   "metadata": {},
   "outputs": [
    {
     "data": {
      "text/plain": [
       "0                                                     -\n",
       "1                                 Adriana Delgado Uribe\n",
       "2                                            Alba Avila\n",
       "3                                     Alejandro Marañon\n",
       "4                                        Andreas Reiber\n",
       "5                        Andres Esteban Paredes Gaviria\n",
       "6                               Andrés González Barrios\n",
       "7            Camila Buitrago/Paula Siauchó/Miguel Parra\n",
       "8                                 Camila Gonzalez Rosas\n",
       "9                                        Carl Langebaek\n",
       "10                               Carlos Rafael Castillo\n",
       "11                                   Carlos Villallinás\n",
       "12                                       Carolina Muñoz\n",
       "13                                       Daniel Llamosa\n",
       "14                            Edgar Francisco Vargas E.\n",
       "15                                        Felipe Muños \n",
       "16                                         Felipe Muñoz\n",
       "17                                        Felipe Muñoz \n",
       "18                                       Felipe Salcedo\n",
       "19                                Felipe Salcedo Galan \n",
       "20                                Felipe Salcedo Galán \n",
       "21                                     Fernando Ramirez\n",
       "22                                  Fernando Ramirez R \n",
       "23                                      Humberto Ibarra\n",
       "24                        Jaime Guillermo Plazas Tuttle\n",
       "25                                         Jairo Ecobar\n",
       "26                                        Jairo Escobar\n",
       "27                             Johann Faccelo Osma Cruz\n",
       "28                                         John Hurtado\n",
       "29                                    John Jady Hurtado\n",
       "30                         Jorge Alberto Medina Perilla\n",
       "31    Juan Armando Sanchez Muñoz <juansanc@uniandes....\n",
       "32                                     Juan Carlos Cruz\n",
       "33                             Juan Carlos Cruz Jimenez\n",
       "34                                   Juan Carlos Moreno\n",
       "35                     Juan Fernando Saldarriaga Elorza\n",
       "36                                        Liliana Reyes\n",
       "37                              Lizeth Tairina Trujillo\n",
       "38                                  Maria Teresa Cortés\n",
       "39                                 Mario Omar Fernández\n",
       "40                                María Teresa Cortés  \n",
       "41                                        Natalia Pardo\n",
       "42                                        Oscar Alvarez\n",
       "43                                          Pablo Ortiz\n",
       "44                                          Pablo Ortíz\n",
       "45                                        Paula Giraldo\n",
       "46                                       Rafael Galindo\n",
       "47                                         Rocío Sierra\n",
       "48                                        Rodrigo Gómez\n",
       "49                                          Sergio Lobo\n",
       "50                               Valeriano López Segura\n",
       "51                                     Wolfram Baumann \n",
       "52                                       Zayra Garavito\n",
       "53                 departamento de ingenieria biomedica\n",
       "54                               universidad javeriana \n",
       "55                                        Óscar Alvarez\n",
       "56                                                  NaN\n",
       "Name: Responsable, dtype: object"
      ]
     },
     "execution_count": 14,
     "metadata": {},
     "output_type": "execute_result"
    }
   ],
   "source": [
    "responsables = df['Responsable'].drop_duplicates().sort_values().reset_index(drop = True)\n",
    "responsables"
   ]
  },
  {
   "cell_type": "code",
   "execution_count": 15,
   "metadata": {},
   "outputs": [],
   "source": [
    "responsables.to_excel(\"Responsables.xlsx\")"
   ]
  },
  {
   "cell_type": "code",
   "execution_count": 12,
   "metadata": {},
   "outputs": [
    {
     "data": {
      "text/plain": [
       "55                                                    -\n",
       "28                                Adriana Delgado Uribe\n",
       "3                                            Alba Avila\n",
       "52                                    Alejandro Marañon\n",
       "4                                        Andreas Reiber\n",
       "32                       Andres Esteban Paredes Gaviria\n",
       "12                              Andrés González Barrios\n",
       "6            Camila Buitrago/Paula Siauchó/Miguel Parra\n",
       "8                                 Camila Gonzalez Rosas\n",
       "38                                       Carl Langebaek\n",
       "26                               Carlos Rafael Castillo\n",
       "10                                   Carlos Villallinás\n",
       "30                                       Carolina Muñoz\n",
       "42                                       Daniel Llamosa\n",
       "9                             Edgar Francisco Vargas E.\n",
       "35                                        Felipe Muños \n",
       "21                                         Felipe Muñoz\n",
       "22                                        Felipe Muñoz \n",
       "23                                       Felipe Salcedo\n",
       "14                                Felipe Salcedo Galan \n",
       "17                                Felipe Salcedo Galán \n",
       "54                                     Fernando Ramirez\n",
       "53                                  Fernando Ramirez R \n",
       "31                                      Humberto Ibarra\n",
       "41                        Jaime Guillermo Plazas Tuttle\n",
       "36                                         Jairo Ecobar\n",
       "18                                        Jairo Escobar\n",
       "48                             Johann Faccelo Osma Cruz\n",
       "50                                         John Hurtado\n",
       "29                                    John Jady Hurtado\n",
       "43                         Jorge Alberto Medina Perilla\n",
       "47    Juan Armando Sanchez Muñoz <juansanc@uniandes....\n",
       "46                                     Juan Carlos Cruz\n",
       "0                              Juan Carlos Cruz Jimenez\n",
       "15                                   Juan Carlos Moreno\n",
       "24                     Juan Fernando Saldarriaga Elorza\n",
       "1                                         Liliana Reyes\n",
       "16                              Lizeth Tairina Trujillo\n",
       "49                                  Maria Teresa Cortés\n",
       "44                                 Mario Omar Fernández\n",
       "56                                María Teresa Cortés  \n",
       "27                                        Natalia Pardo\n",
       "20                                        Oscar Alvarez\n",
       "25                                          Pablo Ortiz\n",
       "13                                          Pablo Ortíz\n",
       "34                                        Paula Giraldo\n",
       "51                                       Rafael Galindo\n",
       "19                                         Rocío Sierra\n",
       "33                                        Rodrigo Gómez\n",
       "39                                          Sergio Lobo\n",
       "5                                Valeriano López Segura\n",
       "45                                     Wolfram Baumann \n",
       "11                                       Zayra Garavito\n",
       "2                  departamento de ingenieria biomedica\n",
       "40                               universidad javeriana \n",
       "37                                        Óscar Alvarez\n",
       "7                                                   NaN\n",
       "Name: Responsable, dtype: object"
      ]
     },
     "execution_count": 12,
     "metadata": {},
     "output_type": "execute_result"
    }
   ],
   "source": []
  },
  {
   "cell_type": "code",
   "execution_count": null,
   "metadata": {},
   "outputs": [],
   "source": []
  }
 ],
 "metadata": {
  "kernelspec": {
   "display_name": "microbill",
   "language": "python",
   "name": "microbill"
  },
  "language_info": {
   "codemirror_mode": {
    "name": "ipython",
    "version": 3
   },
   "file_extension": ".py",
   "mimetype": "text/x-python",
   "name": "python",
   "nbconvert_exporter": "python",
   "pygments_lexer": "ipython3",
   "version": "3.6.5"
  }
 },
 "nbformat": 4,
 "nbformat_minor": 2
}
